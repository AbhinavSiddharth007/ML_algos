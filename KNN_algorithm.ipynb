{
 "cells": [
  {
   "cell_type": "code",
   "execution_count": null,
   "id": "b9df90fd-7864-4742-b449-0c01dca50d88",
   "metadata": {},
   "outputs": [],
   "source": [
    "// Implementing KNN\n",
    "import numpy as np\n",
    "import pandas as pd\n",
    "from sklearn import datasets\n",
    "from sklearn.model_selections import train_test_split\n",
    "#implementing a global varibale for Euclidean_distance\n",
    "\n",
    "def euc(x1,x2):\n",
    "  distance = np.sqrt(np.sum((x1-x2)**2))\n",
    "  return distance\n",
    "\n",
    "class KNN:\n",
    "    def __init__(self,k):\n",
    "      self.k = k\n",
    "      \n",
    "      def fit(self, X, y):\n",
    "        self.X_train = X_train\n",
    "        self.y_train = y_train\n",
    "\n",
    "      def predict(self,x,Y):\n",
    "         predictions. = [self._predict(x)for x in X]\n",
    "         return predictions\n",
    "\n",
    "      def _predict(self,x,Y):\n",
    "            #calculation distances\n",
    "            distances = [euc(x, x_train) for x_train in self.X_train]\n",
    "            #now getting the closed K\n",
    "            k_indices = np.argsort(distances)[:self.k]\n",
    "            k_nearest_labels = [self.y_train[i]for i in k_indices]\n",
    "            #majority vote\n",
    "            most_common = Counter(k_nearest_lables).most_common()\n",
    "            return most_commonm\n",
    "          \n",
    "        "
   ]
  },
  {
   "cell_type": "code",
   "execution_count": null,
   "id": "c9b74c81-0ed5-4773-b902-597112634ce1",
   "metadata": {},
   "outputs": [],
   "source": [
    "import pandas as pd\n",
    "import numpy as np\n",
    "from sklearn import datasets \n",
    "from sklearn.model_selections import train_test_split\n",
    "\n",
    "def elucdian(x1,x2):\n",
    "    distance = np.sqrt(np.sum((x1-x2)**2))\n",
    "    return distance\n",
    "\n",
    "class KNN:\n",
    "    def __init__(self,k):\n",
    "        self.k = k\n",
    "\n",
    "def fitCheck(self,X_train, y_train):\n",
    "    self.X_train = X_train\n",
    "    self.y_trainlc = y_train\n",
    "\n",
    "def predtic(self,X_train, y_train):\n",
    "    predictions  = [self._predtic(x)for x in X_train]\n",
    "\n",
    "def _predict(self,X_train,y_train):\n",
    "     #calculation of distances\n",
    "    distances = [elucdian(x,X_train) for X_train in self.X_train]\n",
    "    #now we getting the closet K \n",
    "    k_indcies = np.argsort((distances)[:self.k])\n",
    "    k_neareat_labels = [self.y_train[i] for i in k_indices]\n",
    "    most_common = Counter(k_nearest_labels).most_common()\n",
    "    return most_common()\n"
   ]
  },
  {
   "cell_type": "code",
   "execution_count": null,
   "id": "c247bd89-978d-4907-b3c1-0a7a2fec84d8",
   "metadata": {},
   "outputs": [],
   "source": []
  }
 ],
 "metadata": {
  "kernelspec": {
   "display_name": "Python 3 (ipykernel)",
   "language": "python",
   "name": "python3"
  },
  "language_info": {
   "codemirror_mode": {
    "name": "ipython",
    "version": 3
   },
   "file_extension": ".py",
   "mimetype": "text/x-python",
   "name": "python",
   "nbconvert_exporter": "python",
   "pygments_lexer": "ipython3",
   "version": "3.11.5"
  }
 },
 "nbformat": 4,
 "nbformat_minor": 5
}
