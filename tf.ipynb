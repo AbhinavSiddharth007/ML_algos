{
  "nbformat": 4,
  "nbformat_minor": 0,
  "metadata": {
    "colab": {
      "provenance": []
    },
    "kernelspec": {
      "name": "python3",
      "display_name": "Python 3"
    },
    "language_info": {
      "name": "python"
    }
  },
  "cells": [
    {
      "cell_type": "code",
      "source": [
        "import numpy as np\n",
        "import pandas as pd\n",
        "import matplotlib.pyplot as plt\n",
        "import tensorflow as tf\n",
        "import os\n",
        "from tensorflow.keras.models import Model\n"
      ],
      "metadata": {
        "id": "SPMR1CeERDur"
      },
      "execution_count": null,
      "outputs": []
    },
    {
      "cell_type": "code",
      "source": [
        "#we are setting limit to our gpu consumption limit\n",
        "\n",
        "gpus = tf.config.experimental.list_physical_devices('GPU')\n",
        "for x in gpus:\n",
        "  tf.config.experimental.set_memory_growth(x,True)\n",
        "\n",
        "len(gpus)\n",
        "\n"
      ],
      "metadata": {
        "id": "v8d812oiRDmW",
        "colab": {
          "base_uri": "https://localhost:8080/"
        },
        "outputId": "8dab1285-c13a-41f1-fc1d-ca9aaff44b96"
      },
      "execution_count": null,
      "outputs": [
        {
          "output_type": "execute_result",
          "data": {
            "text/plain": [
              "0"
            ]
          },
          "metadata": {},
          "execution_count": 4
        }
      ]
    },
    {
      "cell_type": "code",
      "source": [
        "#Goal\n",
        "#1.Create Folder Structure\n",
        "#2.Collect Positive Anchors\n",
        "#3.Untar Labelled faces in the dataset\n",
        "#4. collect positive and anchor classes\n",
        "#5. Load and Preprocess Images"
      ],
      "metadata": {
        "id": "cS9SQCt_RDjt",
        "colab": {
          "base_uri": "https://localhost:8080/"
        },
        "outputId": "61bb9adf-6421-422a-cddb-16be7fcb97ed"
      },
      "execution_count": null,
      "outputs": [
        {
          "output_type": "stream",
          "name": "stdout",
          "text": [
            "100\n"
          ]
        }
      ]
    },
    {
      "cell_type": "code",
      "source": [
        "class Person:\n",
        "  def __init__(self,name,age):\n",
        "    self.name = name\n",
        "    self.age = age\n",
        "\n",
        "class Student(Person):\n",
        "  def __init__(sefl,name,age):\n",
        "    super().__init__(name,age)"
      ],
      "metadata": {
        "id": "KdHDhqwtRDg8",
        "colab": {
          "base_uri": "https://localhost:8080/"
        },
        "outputId": "9c35d8ec-253d-4327-ec54-763cd78ca9f7"
      },
      "execution_count": null,
      "outputs": [
        {
          "output_type": "stream",
          "name": "stdout",
          "text": [
            "<__main__.Student object at 0x7dfc99473950>\n"
          ]
        }
      ]
    },
    {
      "cell_type": "code",
      "source": [
        "import tensorflow as tf\n",
        "import os\n",
        "import tensorflow_datasets\n",
        "import keras\n",
        "from tensorflow.keras.models import Model\n",
        "from tensorflow.keras.layers import Layer,Conv2D,Dense,MaxPooling2D,Input,Flatten\n",
        "print(f\"Tensorflow version:{tf.__version__}\")"
      ],
      "metadata": {
        "id": "7T5Iod_wRDeB",
        "colab": {
          "base_uri": "https://localhost:8080/"
        },
        "outputId": "eefbcc56-46ed-4f07-975d-49e16d514e0c"
      },
      "execution_count": null,
      "outputs": [
        {
          "output_type": "stream",
          "name": "stdout",
          "text": [
            "Tensorflow version:2.18.0\n"
          ]
        }
      ]
    },
    {
      "cell_type": "code",
      "source": [
        "#loading dataset\n",
        "minst = tf.keras.datasets.mints\n",
        "(x_train, Y_train),(x_test,Y_test)= minst.load_data()\n",
        "x_tain , x_test = x_train/255.0,x_test/255.0 #these are pixel value ranger"
      ],
      "metadata": {
        "id": "Lhm31MY7RDbK"
      },
      "execution_count": null,
      "outputs": []
    },
    {
      "cell_type": "code",
      "source": [
        "#Building the neural network\n",
        "model = tf.keras.models.Sequential([\n",
        "    tf.keras.layers.Flatten(input_shape=(28,28)),\n",
        "    tf.keras.layers.Dense(128,activation='relu'),\n",
        "    tf.keras.layers.Dropout(0.2),\n",
        "    tf.keras.layers.Dense(10)\n",
        "])"
      ],
      "metadata": {
        "id": "ZbB64wSaRDXu"
      },
      "execution_count": null,
      "outputs": []
    },
    {
      "cell_type": "code",
      "source": [
        "x = ['g']\n",
        "for i in x:\n",
        "  print(i)"
      ],
      "metadata": {
        "id": "pFJOwkhpRDUj",
        "colab": {
          "base_uri": "https://localhost:8080/"
        },
        "outputId": "5c139664-b8be-4bc4-ef2d-e9a756e1db09"
      },
      "execution_count": 1,
      "outputs": [
        {
          "output_type": "stream",
          "name": "stdout",
          "text": [
            "g\n"
          ]
        }
      ]
    },
    {
      "cell_type": "code",
      "source": [
        "#Linear Regression\n",
        "import numpy as np\n",
        "\n",
        "class LinearRegression:\n",
        "  def __init__(self, lr=0.001,number_of_iterations=1000,weight,bais):\n",
        "    self.lr = lr\n",
        "    self.number_of_iteration = number_of_iterations\n",
        "    self.weight = none\n",
        "    self.bais = none\n",
        "\n",
        "    def fit(self,X,y):\n",
        "      num_samples,num_features = X.shape\n",
        "      self.weight = np.zeros(num_features)\n",
        "      self.bais = 0\n",
        "\n",
        "      def predict(self,X):\n",
        "        return\n"
      ],
      "metadata": {
        "id": "alienrOfRDRn"
      },
      "execution_count": null,
      "outputs": []
    },
    {
      "cell_type": "code",
      "source": [
        "#database Consistency\n",
        "# It reffers to any transiction of data that happens in such\n",
        "# a way that it maintains the database integrity , constrains\n",
        "# and relationship\n"
      ],
      "metadata": {
        "id": "TjqL2i9yRDOc"
      },
      "execution_count": null,
      "outputs": []
    },
    {
      "cell_type": "code",
      "source": [
        "def cal(x):\n",
        "  return x\n",
        "\n",
        "print(int(cal(65000/12)))\n"
      ],
      "metadata": {
        "id": "JnZc-j7ORDLh",
        "colab": {
          "base_uri": "https://localhost:8080/"
        },
        "outputId": "2a7ce97a-2ab6-40cc-83c5-5a405a5ee86c"
      },
      "execution_count": 12,
      "outputs": [
        {
          "output_type": "stream",
          "name": "stdout",
          "text": [
            "5416\n"
          ]
        }
      ]
    },
    {
      "cell_type": "code",
      "source": [
        "minst = tf.keras.datasets.minst\n",
        "(x_train,Y_train), (x_test,Y_test) = minst.load_data()\n",
        "x_train, x_test = x_train/255.0,x_test/255.0"
      ],
      "metadata": {
        "id": "mK0mTYyNRDIa"
      },
      "execution_count": null,
      "outputs": []
    },
    {
      "cell_type": "code",
      "source": [
        "#Entity realtionship and charater in database for project"
      ],
      "metadata": {
        "id": "f7mPDdN3RDCm"
      },
      "execution_count": null,
      "outputs": []
    },
    {
      "cell_type": "code",
      "source": [],
      "metadata": {
        "id": "nrlnU8uwRC_c"
      },
      "execution_count": null,
      "outputs": []
    },
    {
      "cell_type": "code",
      "source": [],
      "metadata": {
        "id": "R8hztEM6RC8w"
      },
      "execution_count": null,
      "outputs": []
    },
    {
      "cell_type": "code",
      "source": [],
      "metadata": {
        "id": "EJcvV6HgRC5_"
      },
      "execution_count": null,
      "outputs": []
    },
    {
      "cell_type": "code",
      "source": [],
      "metadata": {
        "id": "VRHmSa9uRC3O"
      },
      "execution_count": null,
      "outputs": []
    },
    {
      "cell_type": "code",
      "source": [],
      "metadata": {
        "id": "sD4TbyYiRC0O"
      },
      "execution_count": null,
      "outputs": []
    },
    {
      "cell_type": "code",
      "source": [],
      "metadata": {
        "id": "Xt7D6E9hRCxa"
      },
      "execution_count": null,
      "outputs": []
    },
    {
      "cell_type": "code",
      "source": [],
      "metadata": {
        "id": "VVmqUPgiRCuP"
      },
      "execution_count": null,
      "outputs": []
    },
    {
      "cell_type": "code",
      "source": [],
      "metadata": {
        "id": "zr0OMuRrRCr4"
      },
      "execution_count": null,
      "outputs": []
    },
    {
      "cell_type": "code",
      "source": [],
      "metadata": {
        "id": "HgnzD4A4RCo0"
      },
      "execution_count": null,
      "outputs": []
    },
    {
      "cell_type": "code",
      "source": [],
      "metadata": {
        "id": "X1UgAo3eRCl7"
      },
      "execution_count": null,
      "outputs": []
    },
    {
      "cell_type": "code",
      "source": [],
      "metadata": {
        "id": "HThijZjARCjL"
      },
      "execution_count": null,
      "outputs": []
    },
    {
      "cell_type": "code",
      "source": [],
      "metadata": {
        "id": "M0j7biOpRCgP"
      },
      "execution_count": null,
      "outputs": []
    },
    {
      "cell_type": "code",
      "source": [],
      "metadata": {
        "id": "6cqg2IWrRCdP"
      },
      "execution_count": null,
      "outputs": []
    },
    {
      "cell_type": "code",
      "source": [],
      "metadata": {
        "id": "WIRboHfZRCUm"
      },
      "execution_count": null,
      "outputs": []
    },
    {
      "cell_type": "code",
      "execution_count": null,
      "metadata": {
        "id": "pKlbxoX0Q54K"
      },
      "outputs": [],
      "source": []
    },
    {
      "cell_type": "code",
      "source": [],
      "metadata": {
        "id": "IYKptHNxdWEp"
      },
      "execution_count": null,
      "outputs": []
    },
    {
      "cell_type": "code",
      "source": [],
      "metadata": {
        "id": "tJcBLoOrdV_U"
      },
      "execution_count": null,
      "outputs": []
    },
    {
      "cell_type": "code",
      "source": [],
      "metadata": {
        "id": "Ij3Va8wwdV4I"
      },
      "execution_count": null,
      "outputs": []
    },
    {
      "cell_type": "code",
      "source": [],
      "metadata": {
        "id": "nPzJ-hV_dVvt"
      },
      "execution_count": null,
      "outputs": []
    }
  ]
}